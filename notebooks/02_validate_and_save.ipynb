{
 "cells": [
  {
   "cell_type": "code",
   "execution_count": 1,
   "id": "83d7d4bc-45e9-4ee0-aa62-61e559f05141",
   "metadata": {},
   "outputs": [],
   "source": [
    "from IPython.core.interactiveshell import InteractiveShell\n",
    "InteractiveShell.ast_node_interactivity = \"all\""
   ]
  },
  {
   "cell_type": "code",
   "execution_count": 5,
   "id": "b5a1db44-13b0-4432-b69f-7264cf4daca8",
   "metadata": {},
   "outputs": [
    {
     "data": {
      "text/html": [
       "<div>\n",
       "<style scoped>\n",
       "    .dataframe tbody tr th:only-of-type {\n",
       "        vertical-align: middle;\n",
       "    }\n",
       "\n",
       "    .dataframe tbody tr th {\n",
       "        vertical-align: top;\n",
       "    }\n",
       "\n",
       "    .dataframe thead th {\n",
       "        text-align: right;\n",
       "    }\n",
       "</style>\n",
       "<table border=\"1\" class=\"dataframe\">\n",
       "  <thead>\n",
       "    <tr style=\"text-align: right;\">\n",
       "      <th></th>\n",
       "      <th>ride_id</th>\n",
       "      <th>rideable_type</th>\n",
       "      <th>started_at</th>\n",
       "      <th>ended_at</th>\n",
       "      <th>start_station_name</th>\n",
       "      <th>start_station_id</th>\n",
       "      <th>end_station_name</th>\n",
       "      <th>end_station_id</th>\n",
       "      <th>start_lat</th>\n",
       "      <th>start_lng</th>\n",
       "      <th>end_lat</th>\n",
       "      <th>end_lng</th>\n",
       "      <th>member_casual</th>\n",
       "    </tr>\n",
       "  </thead>\n",
       "  <tbody>\n",
       "    <tr>\n",
       "      <th>0</th>\n",
       "      <td>0905B18B365C9D20</td>\n",
       "      <td>classic_bike</td>\n",
       "      <td>2023-01-28 09:18:10</td>\n",
       "      <td>2023-01-28 09:28:52</td>\n",
       "      <td>Hoboken Terminal - Hudson St &amp; Hudson Pl</td>\n",
       "      <td>HB101</td>\n",
       "      <td>Hamilton Park</td>\n",
       "      <td>JC009</td>\n",
       "      <td>40.735938</td>\n",
       "      <td>-74.030305</td>\n",
       "      <td>40.727596</td>\n",
       "      <td>-74.044247</td>\n",
       "      <td>member</td>\n",
       "    </tr>\n",
       "    <tr>\n",
       "      <th>1</th>\n",
       "      <td>B4F0562B05CB5404</td>\n",
       "      <td>electric_bike</td>\n",
       "      <td>2023-01-23 20:10:12</td>\n",
       "      <td>2023-01-23 20:18:27</td>\n",
       "      <td>Hoboken Terminal - Hudson St &amp; Hudson Pl</td>\n",
       "      <td>HB101</td>\n",
       "      <td>Southwest Park - Jackson St &amp; Observer Hwy</td>\n",
       "      <td>HB401</td>\n",
       "      <td>40.735938</td>\n",
       "      <td>-74.030305</td>\n",
       "      <td>40.737551</td>\n",
       "      <td>-74.041664</td>\n",
       "      <td>member</td>\n",
       "    </tr>\n",
       "    <tr>\n",
       "      <th>2</th>\n",
       "      <td>5ABF032895F5D87E</td>\n",
       "      <td>classic_bike</td>\n",
       "      <td>2023-01-29 15:27:04</td>\n",
       "      <td>2023-01-29 15:32:38</td>\n",
       "      <td>Hoboken Terminal - Hudson St &amp; Hudson Pl</td>\n",
       "      <td>HB101</td>\n",
       "      <td>Marshall St &amp; 2 St</td>\n",
       "      <td>HB408</td>\n",
       "      <td>40.735944</td>\n",
       "      <td>-74.030383</td>\n",
       "      <td>40.740802</td>\n",
       "      <td>-74.042521</td>\n",
       "      <td>member</td>\n",
       "    </tr>\n",
       "    <tr>\n",
       "      <th>3</th>\n",
       "      <td>E7E1F9C53976D2F9</td>\n",
       "      <td>classic_bike</td>\n",
       "      <td>2023-01-24 18:35:08</td>\n",
       "      <td>2023-01-24 18:42:13</td>\n",
       "      <td>Hoboken Terminal - Hudson St &amp; Hudson Pl</td>\n",
       "      <td>HB101</td>\n",
       "      <td>Hamilton Park</td>\n",
       "      <td>JC009</td>\n",
       "      <td>40.735986</td>\n",
       "      <td>-74.030364</td>\n",
       "      <td>40.727596</td>\n",
       "      <td>-74.044247</td>\n",
       "      <td>member</td>\n",
       "    </tr>\n",
       "    <tr>\n",
       "      <th>4</th>\n",
       "      <td>323165780CA0734B</td>\n",
       "      <td>classic_bike</td>\n",
       "      <td>2023-01-21 20:44:09</td>\n",
       "      <td>2023-01-21 20:48:08</td>\n",
       "      <td>Hamilton Park</td>\n",
       "      <td>JC009</td>\n",
       "      <td>Manila &amp; 1st</td>\n",
       "      <td>JC082</td>\n",
       "      <td>40.727596</td>\n",
       "      <td>-74.044247</td>\n",
       "      <td>40.721651</td>\n",
       "      <td>-74.042884</td>\n",
       "      <td>member</td>\n",
       "    </tr>\n",
       "  </tbody>\n",
       "</table>\n",
       "</div>"
      ],
      "text/plain": [
       "            ride_id  rideable_type           started_at             ended_at  \\\n",
       "0  0905B18B365C9D20   classic_bike  2023-01-28 09:18:10  2023-01-28 09:28:52   \n",
       "1  B4F0562B05CB5404  electric_bike  2023-01-23 20:10:12  2023-01-23 20:18:27   \n",
       "2  5ABF032895F5D87E   classic_bike  2023-01-29 15:27:04  2023-01-29 15:32:38   \n",
       "3  E7E1F9C53976D2F9   classic_bike  2023-01-24 18:35:08  2023-01-24 18:42:13   \n",
       "4  323165780CA0734B   classic_bike  2023-01-21 20:44:09  2023-01-21 20:48:08   \n",
       "\n",
       "                         start_station_name start_station_id  \\\n",
       "0  Hoboken Terminal - Hudson St & Hudson Pl            HB101   \n",
       "1  Hoboken Terminal - Hudson St & Hudson Pl            HB101   \n",
       "2  Hoboken Terminal - Hudson St & Hudson Pl            HB101   \n",
       "3  Hoboken Terminal - Hudson St & Hudson Pl            HB101   \n",
       "4                             Hamilton Park            JC009   \n",
       "\n",
       "                             end_station_name end_station_id  start_lat  \\\n",
       "0                               Hamilton Park          JC009  40.735938   \n",
       "1  Southwest Park - Jackson St & Observer Hwy          HB401  40.735938   \n",
       "2                          Marshall St & 2 St          HB408  40.735944   \n",
       "3                               Hamilton Park          JC009  40.735986   \n",
       "4                                Manila & 1st          JC082  40.727596   \n",
       "\n",
       "   start_lng    end_lat    end_lng member_casual  \n",
       "0 -74.030305  40.727596 -74.044247        member  \n",
       "1 -74.030305  40.737551 -74.041664        member  \n",
       "2 -74.030383  40.740802 -74.042521        member  \n",
       "3 -74.030364  40.727596 -74.044247        member  \n",
       "4 -74.044247  40.721651 -74.042884        member  "
      ]
     },
     "execution_count": 5,
     "metadata": {},
     "output_type": "execute_result"
    }
   ],
   "source": [
    "import pandas as pd\n",
    "from pathlib import Path\n",
    "\n",
    "month = 1\n",
    "year = 2023\n",
    "path = Path(\"..\") / \"data\" / \"raw\" / f\"JC-{year}{month:02}-citibike-tripdata.csv\"\n",
    "\n",
    "# Read CSV using pandas\n",
    "rides = pd.read_csv(path)\n",
    "\n",
    "# Preview the data\n",
    "rides.head()\n"
   ]
  },
  {
   "cell_type": "code",
   "execution_count": 6,
   "id": "8d04b46b-7fae-43f1-96e0-36dc5867e914",
   "metadata": {},
   "outputs": [],
   "source": [
    "rides_cp = rides.copy()\n",
    "rides_cp[\"started_at\"] = pd.to_datetime(rides_cp[\"started_at\"])\n",
    "rides_cp[\"ended_at\"] = pd.to_datetime(rides_cp[\"ended_at\"])\n",
    "rides_cp[\"duration\"] = rides_cp[\"ended_at\"] - rides_cp[\"started_at\"]"
   ]
  },
  {
   "cell_type": "code",
   "execution_count": 7,
   "id": "7d3094ae-0bf6-441e-9dea-e9e9069ca1e2",
   "metadata": {},
   "outputs": [
    {
     "name": "stdout",
     "output_type": "stream",
     "text": [
      "count                        56075\n",
      "mean     0 days 00:11:47.619580918\n",
      "std      0 days 01:08:03.871820543\n",
      "min                0 days 00:00:00\n",
      "25%                0 days 00:03:51\n",
      "50%                0 days 00:05:52\n",
      "75%                0 days 00:09:02\n",
      "max                3 days 03:38:17\n",
      "Name: duration, dtype: object\n",
      "0.000             0 days 00:00:00\n",
      "0.010             0 days 00:00:19\n",
      "0.995   0 days 01:47:45.519999999\n",
      "0.999      1 days 00:59:39.926000\n",
      "Name: duration, dtype: timedelta64[ns]\n"
     ]
    }
   ],
   "source": [
    "print(rides_cp[\"duration\"].describe())\n",
    "print(rides_cp[\"duration\"].quantile([0.0, 0.01, 0.995, 0.999]))"
   ]
  },
  {
   "cell_type": "code",
   "execution_count": 8,
   "id": "293348ac-95a4-4997-b8e3-6d6086342dfc",
   "metadata": {},
   "outputs": [
    {
     "name": "stdout",
     "output_type": "stream",
     "text": [
      "Invalid durations: 187\n"
     ]
    }
   ],
   "source": [
    "duration_filter = (rides_cp[\"duration\"] > pd.Timedelta(0)) & (rides_cp[\"duration\"] <= pd.Timedelta(hours=5))\n",
    "print(\"Invalid durations:\", sum(~duration_filter))"
   ]
  },
  {
   "cell_type": "code",
   "execution_count": 9,
   "id": "65f9232b-387e-40c1-9bfe-ffe57d8710a1",
   "metadata": {},
   "outputs": [],
   "source": [
    "valid_start = rides_cp[\"start_station_id\"].notna()\n",
    "valid_end = rides_cp[\"end_station_id\"].notna()\n",
    "location_filter = valid_start & valid_end"
   ]
  },
  {
   "cell_type": "code",
   "execution_count": 11,
   "id": "b6bb1e2b-2503-4296-9a0d-eb2c42d81969",
   "metadata": {},
   "outputs": [],
   "source": [
    "date_filter = (rides_cp[\"started_at\"] >= \"2023-01-01\") & (rides_cp[\"started_at\"] < \"2023-02-01\")\n"
   ]
  },
  {
   "cell_type": "code",
   "execution_count": 12,
   "id": "fdb81043-4b4c-4519-a3ed-f332f38b7177",
   "metadata": {},
   "outputs": [
    {
     "name": "stdout",
     "output_type": "stream",
     "text": [
      "Rows dropped: 327\n"
     ]
    }
   ],
   "source": [
    "final_filter = duration_filter & location_filter & date_filter\n",
    "print(\"Rows dropped:\", rides_cp.shape[0] - sum(final_filter))"
   ]
  },
  {
   "cell_type": "code",
   "execution_count": 13,
   "id": "23b667dd-b586-4b5b-b88f-3cf2116c68a3",
   "metadata": {},
   "outputs": [],
   "source": [
    "rides_filtered = rides_cp[final_filter].copy()\n"
   ]
  },
  {
   "cell_type": "code",
   "execution_count": 14,
   "id": "c6622e56-4451-4bd1-a2f6-f541b0f7861b",
   "metadata": {},
   "outputs": [
    {
     "data": {
      "text/html": [
       "<div>\n",
       "<style scoped>\n",
       "    .dataframe tbody tr th:only-of-type {\n",
       "        vertical-align: middle;\n",
       "    }\n",
       "\n",
       "    .dataframe tbody tr th {\n",
       "        vertical-align: top;\n",
       "    }\n",
       "\n",
       "    .dataframe thead th {\n",
       "        text-align: right;\n",
       "    }\n",
       "</style>\n",
       "<table border=\"1\" class=\"dataframe\">\n",
       "  <thead>\n",
       "    <tr style=\"text-align: right;\">\n",
       "      <th></th>\n",
       "      <th>pickup_datetime</th>\n",
       "      <th>pickup_location_id</th>\n",
       "    </tr>\n",
       "  </thead>\n",
       "  <tbody>\n",
       "    <tr>\n",
       "      <th>0</th>\n",
       "      <td>2023-01-28 09:18:10</td>\n",
       "      <td>HB101</td>\n",
       "    </tr>\n",
       "    <tr>\n",
       "      <th>1</th>\n",
       "      <td>2023-01-23 20:10:12</td>\n",
       "      <td>HB101</td>\n",
       "    </tr>\n",
       "    <tr>\n",
       "      <th>2</th>\n",
       "      <td>2023-01-29 15:27:04</td>\n",
       "      <td>HB101</td>\n",
       "    </tr>\n",
       "    <tr>\n",
       "      <th>3</th>\n",
       "      <td>2023-01-24 18:35:08</td>\n",
       "      <td>HB101</td>\n",
       "    </tr>\n",
       "    <tr>\n",
       "      <th>4</th>\n",
       "      <td>2023-01-21 20:44:09</td>\n",
       "      <td>JC009</td>\n",
       "    </tr>\n",
       "  </tbody>\n",
       "</table>\n",
       "</div>"
      ],
      "text/plain": [
       "      pickup_datetime pickup_location_id\n",
       "0 2023-01-28 09:18:10              HB101\n",
       "1 2023-01-23 20:10:12              HB101\n",
       "2 2023-01-29 15:27:04              HB101\n",
       "3 2023-01-24 18:35:08              HB101\n",
       "4 2023-01-21 20:44:09              JC009"
      ]
     },
     "execution_count": 14,
     "metadata": {},
     "output_type": "execute_result"
    }
   ],
   "source": [
    "rides_filtered = rides_filtered[[\"started_at\", \"start_station_id\"]]\n",
    "rides_filtered.rename(columns={\n",
    "    \"started_at\": \"pickup_datetime\",\n",
    "    \"start_station_id\": \"pickup_location_id\"\n",
    "}, inplace=True)\n",
    "\n",
    "# 9. Save as Parquet\n",
    "output_path = Path(\"..\") / \"data\" / \"processed\" / f\"rides_{year}_{month:02}.parquet\"\n",
    "output_path.parent.mkdir(parents=True, exist_ok=True)\n",
    "rides_filtered.to_parquet(output_path, engine=\"pyarrow\", index=False)\n",
    "\n",
    "# 10. Final check\n",
    "rides_filtered.head()"
   ]
  }
 ],
 "metadata": {
  "kernelspec": {
   "display_name": "Python 3 (ipykernel)",
   "language": "python",
   "name": "python3"
  },
  "language_info": {
   "codemirror_mode": {
    "name": "ipython",
    "version": 3
   },
   "file_extension": ".py",
   "mimetype": "text/x-python",
   "name": "python",
   "nbconvert_exporter": "python",
   "pygments_lexer": "ipython3",
   "version": "3.12.7"
  }
 },
 "nbformat": 4,
 "nbformat_minor": 5
}
