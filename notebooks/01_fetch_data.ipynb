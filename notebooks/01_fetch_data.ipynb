{
 "cells": [
  {
   "cell_type": "code",
   "execution_count": 2,
   "id": "b864df1f-3b61-4d10-b63e-a0e0bb7a2acd",
   "metadata": {},
   "outputs": [
    {
     "name": "stdout",
     "output_type": "stream",
     "text": [
      "Successfully fetched ZIP file: ..\\data\\raw\\JC-202301-citibike-tripdata.csv.zip\n",
      "Extracted ZIP file to: ..\\data\\raw\n",
      "Successfully loaded data from ..\\data\\raw\\JC-202301-citibike-tripdata.csv\n"
     ]
    }
   ],
   "source": [
    "import os\n",
    "from pathlib import Path\n",
    "import pandas as pd\n",
    "import requests\n",
    "import zipfile\n",
    "import io\n",
    "\n",
    "def fetch_raw_data(year: int, month: int) -> str:\n",
    "    # Construct the URL for JC-style file\n",
    "    file_name = f\"JC-{year}{month:02}-citibike-tripdata.csv.zip\"\n",
    "    url = f\"https://s3.amazonaws.com/tripdata/{file_name}\"\n",
    "    \n",
    "    response = requests.get(url)\n",
    "    \n",
    "    if response.status_code == 200:\n",
    "        # Path to save the ZIP\n",
    "        zip_path = Path(\"..\") / \"data\" / \"raw\" / file_name\n",
    "        zip_path.parent.mkdir(parents=True, exist_ok=True)\n",
    "\n",
    "        # Save ZIP\n",
    "        with open(zip_path, 'wb') as f:\n",
    "            f.write(response.content)\n",
    "        print(f\"Successfully fetched ZIP file: {zip_path}\")\n",
    "\n",
    "        # Extract contents\n",
    "        with zipfile.ZipFile(io.BytesIO(response.content)) as z:\n",
    "            z.extractall(zip_path.parent)\n",
    "            print(f\"Extracted ZIP file to: {zip_path.parent}\")\n",
    "\n",
    "        # Return path to extracted CSV\n",
    "        csv_file_name = file_name.replace(\".zip\", \"\")\n",
    "        csv_path = zip_path.parent / csv_file_name\n",
    "        return csv_path\n",
    "    else:\n",
    "        raise Exception(f\"{url} is not available (status code: {response.status_code})\")\n",
    "\n",
    "def process_data(year: int, month: int):\n",
    "    csv_path = fetch_raw_data(year, month)\n",
    "    df = pd.read_csv(csv_path)\n",
    "    print(f\"Successfully loaded data from {csv_path}\")\n",
    "    return df\n",
    "\n",
    "def fetch_all_data():\n",
    "    # Example: fetch JC files for Jan to Mar 2023\n",
    "    for month in range(1, 2):\n",
    "        try:\n",
    "            process_data(2023, month)\n",
    "        except Exception as e:\n",
    "            print(e)\n",
    "\n",
    "# Trigger data fetching\n",
    "fetch_all_data()\n"
   ]
  },
  {
   "cell_type": "code",
   "execution_count": 3,
   "id": "ea3d5f04-c44f-4f2f-9d32-64508e212d29",
   "metadata": {},
   "outputs": [
    {
     "name": "stdout",
     "output_type": "stream",
     "text": [
      "Successfully fetched ZIP file: ..\\data\\raw\\JC-202301-citibike-tripdata.csv.zip\n",
      "Extracted ZIP file to: ..\\data\\raw\n"
     ]
    },
    {
     "data": {
      "text/plain": [
       "WindowsPath('../data/raw/JC-202301-citibike-tripdata.csv')"
      ]
     },
     "execution_count": 3,
     "metadata": {},
     "output_type": "execute_result"
    }
   ],
   "source": [
    "fetch_raw_data(2023, 1)"
   ]
  },
  {
   "cell_type": "code",
   "execution_count": null,
   "id": "03fc6e34-67b4-4116-b333-9bbcfae3bbbd",
   "metadata": {},
   "outputs": [],
   "source": []
  }
 ],
 "metadata": {
  "kernelspec": {
   "display_name": "Python 3 (ipykernel)",
   "language": "python",
   "name": "python3"
  },
  "language_info": {
   "codemirror_mode": {
    "name": "ipython",
    "version": 3
   },
   "file_extension": ".py",
   "mimetype": "text/x-python",
   "name": "python",
   "nbconvert_exporter": "python",
   "pygments_lexer": "ipython3",
   "version": "3.12.7"
  }
 },
 "nbformat": 4,
 "nbformat_minor": 5
}
